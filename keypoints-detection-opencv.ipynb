{
 "cells": [
  {
   "cell_type": "code",
   "execution_count": 2,
   "metadata": {},
   "outputs": [
    {
     "name": "stdout",
     "output_type": "stream",
     "text": [
      "----- (1, 57, 46, 46) -----\n",
      "----- [[-6.6972566e-03 -3.5832697e-03  1.7188541e-03 ...  3.8187052e-03\n",
      "   2.0883372e-04 -1.3173004e-03]\n",
      " [ 1.9955542e-04  3.4770230e-04  3.3324864e-04 ...  7.3961238e-03\n",
      "   1.4349143e-03 -2.4910350e-03]\n",
      " [ 3.1303172e-04  2.2997987e-04  1.2065242e-03 ... -8.5888105e-04\n",
      "   4.5467834e-03  6.1653089e-05]\n",
      " ...\n",
      " [ 4.0697074e-04  3.2241596e-04  2.8766831e-04 ... -1.8877764e-03\n",
      "   3.6724610e-04 -2.6295381e-04]\n",
      " [ 4.1262503e-04  4.1262433e-04  4.0534558e-04 ... -4.7609587e-03\n",
      "  -6.9584628e-03 -6.1722775e-03]\n",
      " [ 4.4927862e-04  4.0848693e-04 -9.3446113e-05 ... -4.2572995e-03\n",
      "  -2.1094163e-03 -2.9780646e-03]] -----\n",
      "----- ['Nose', 'Neck', 'RShoulder', 'RElbow', 'RWrist', 'LShoulder', 'LElbow', 'LWrist', 'RHip', 'RKnee', 'RAnkle', 'LHip', 'LKnee', 'LAnkle', 'REye', 'LEye', 'REar', 'LEar', 'Background'] -----\n",
      "Keypoints detected(19 max, None if confidence threshold is low) :-\n",
      "[(400, 69), (400, 173), (313, 173), (243, 243), (243, 330), (486, 173), (539, 260), (539, 347), (347, 400), (347, 556), (347, 730), (452, 400), (452, 556), (452, 730), (382, 52), (417, 52), (365, 69), (434, 69), (765, 17)]\n"
     ]
    }
   ],
   "source": [
    "!python openpose.py --input image.jpg"
   ]
  },
  {
   "cell_type": "code",
   "execution_count": null,
   "metadata": {},
   "outputs": [],
   "source": []
  }
 ],
 "metadata": {
  "kernelspec": {
   "display_name": "Python 3",
   "language": "python",
   "name": "python3"
  },
  "language_info": {
   "codemirror_mode": {
    "name": "ipython",
    "version": 3
   },
   "file_extension": ".py",
   "mimetype": "text/x-python",
   "name": "python",
   "nbconvert_exporter": "python",
   "pygments_lexer": "ipython3",
   "version": "3.6.4"
  }
 },
 "nbformat": 4,
 "nbformat_minor": 2
}
